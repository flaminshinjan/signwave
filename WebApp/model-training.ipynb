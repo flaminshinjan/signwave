{
 "cells": [
  {
   "cell_type": "code",
   "execution_count": 5,
   "metadata": {},
   "outputs": [],
   "source": [
    "import mediapipe as mp\n",
    "from mediapipe.tasks import python\n",
    "from mediapipe.tasks.python import vision\n",
    "import cv2"
   ]
  },
  {
   "cell_type": "code",
   "execution_count": 6,
   "metadata": {},
   "outputs": [],
   "source": [
    "model_path = \"D:\\\\HackathonProjects\\\\Layer0\\\\model_task\\\\gesture_recognizer.task\""
   ]
  },
  {
   "cell_type": "code",
   "execution_count": 7,
   "metadata": {},
   "outputs": [
    {
     "ename": "RuntimeError",
     "evalue": "File loading is not yet supported on Windows",
     "output_type": "error",
     "traceback": [
      "\u001b[1;31m---------------------------------------------------------------------------\u001b[0m",
      "\u001b[1;31mRuntimeError\u001b[0m                              Traceback (most recent call last)",
      "Cell \u001b[1;32mIn[7], line 12\u001b[0m\n\u001b[0;32m      8\u001b[0m \u001b[39m# Create a gesture recognizer instance with the video mode:\u001b[39;00m\n\u001b[0;32m      9\u001b[0m options \u001b[39m=\u001b[39m GestureRecognizerOptions(\n\u001b[0;32m     10\u001b[0m     base_options\u001b[39m=\u001b[39mBaseOptions(model_asset_path\u001b[39m=\u001b[39mmodel_path),\n\u001b[0;32m     11\u001b[0m     running_mode\u001b[39m=\u001b[39mVisionRunningMode\u001b[39m.\u001b[39mVIDEO)\n\u001b[1;32m---> 12\u001b[0m \u001b[39mwith\u001b[39;00m GestureRecognizer\u001b[39m.\u001b[39;49mcreate_from_options(options) \u001b[39mas\u001b[39;00m recognizer:\n\u001b[0;32m     13\u001b[0m   \u001b[39mpass\u001b[39;00m\n",
      "File \u001b[1;32md:\\HackathonProjects\\Layer0\\layer0\\lib\\site-packages\\mediapipe\\tasks\\python\\vision\\gesture_recognizer.py:296\u001b[0m, in \u001b[0;36mGestureRecognizer.create_from_options\u001b[1;34m(cls, options)\u001b[0m\n\u001b[0;32m    277\u001b[0m   options\u001b[39m.\u001b[39mresult_callback(gesture_recognizer_result, image,\n\u001b[0;32m    278\u001b[0m                           timestamp\u001b[39m.\u001b[39mvalue \u001b[39m/\u001b[39m\u001b[39m/\u001b[39m _MICRO_SECONDS_PER_MILLISECOND)\n\u001b[0;32m    280\u001b[0m task_info \u001b[39m=\u001b[39m _TaskInfo(\n\u001b[0;32m    281\u001b[0m     task_graph\u001b[39m=\u001b[39m_TASK_GRAPH_NAME,\n\u001b[0;32m    282\u001b[0m     input_streams\u001b[39m=\u001b[39m[\n\u001b[1;32m   (...)\u001b[0m\n\u001b[0;32m    294\u001b[0m     ],\n\u001b[0;32m    295\u001b[0m     task_options\u001b[39m=\u001b[39moptions)\n\u001b[1;32m--> 296\u001b[0m \u001b[39mreturn\u001b[39;00m \u001b[39mcls\u001b[39;49m(\n\u001b[0;32m    297\u001b[0m     task_info\u001b[39m.\u001b[39;49mgenerate_graph_config(\n\u001b[0;32m    298\u001b[0m         enable_flow_limiting\u001b[39m=\u001b[39;49moptions\u001b[39m.\u001b[39;49mrunning_mode \u001b[39m==\u001b[39;49m\n\u001b[0;32m    299\u001b[0m         _RunningMode\u001b[39m.\u001b[39;49mLIVE_STREAM), options\u001b[39m.\u001b[39;49mrunning_mode,\n\u001b[0;32m    300\u001b[0m     packets_callback \u001b[39mif\u001b[39;49;00m options\u001b[39m.\u001b[39;49mresult_callback \u001b[39melse\u001b[39;49;00m \u001b[39mNone\u001b[39;49;00m)\n",
      "File \u001b[1;32md:\\HackathonProjects\\Layer0\\layer0\\lib\\site-packages\\mediapipe\\tasks\\python\\vision\\core\\base_vision_task_api.py:65\u001b[0m, in \u001b[0;36mBaseVisionTaskApi.__init__\u001b[1;34m(self, graph_config, running_mode, packet_callback)\u001b[0m\n\u001b[0;32m     61\u001b[0m \u001b[39melif\u001b[39;00m packet_callback:\n\u001b[0;32m     62\u001b[0m   \u001b[39mraise\u001b[39;00m \u001b[39mValueError\u001b[39;00m(\n\u001b[0;32m     63\u001b[0m       \u001b[39m'\u001b[39m\u001b[39mThe vision task is in image or video mode, a user-defined result \u001b[39m\u001b[39m'\u001b[39m\n\u001b[0;32m     64\u001b[0m       \u001b[39m'\u001b[39m\u001b[39mcallback should not be provided.\u001b[39m\u001b[39m'\u001b[39m)\n\u001b[1;32m---> 65\u001b[0m \u001b[39mself\u001b[39m\u001b[39m.\u001b[39m_runner \u001b[39m=\u001b[39m _TaskRunner\u001b[39m.\u001b[39;49mcreate(graph_config, packet_callback)\n\u001b[0;32m     66\u001b[0m \u001b[39mself\u001b[39m\u001b[39m.\u001b[39m_running_mode \u001b[39m=\u001b[39m running_mode\n",
      "\u001b[1;31mRuntimeError\u001b[0m: File loading is not yet supported on Windows"
     ]
    }
   ],
   "source": [
    "import mediapipe as mp\n",
    "\n",
    "BaseOptions = mp.tasks.BaseOptions\n",
    "GestureRecognizer = mp.tasks.vision.GestureRecognizer\n",
    "GestureRecognizerOptions = mp.tasks.vision.GestureRecognizerOptions\n",
    "VisionRunningMode = mp.tasks.vision.RunningMode\n",
    "\n",
    "# Create a gesture recognizer instance with the video mode:\n",
    "options = GestureRecognizerOptions(\n",
    "    base_options=BaseOptions(model_asset_path=model_path),\n",
    "    running_mode=VisionRunningMode.VIDEO)\n",
    "with GestureRecognizer.create_from_options(options) as recognizer:\n",
    "  pass\n",
    "\n",
    "    "
   ]
  },
  {
   "cell_type": "code",
   "execution_count": null,
   "metadata": {},
   "outputs": [],
   "source": []
  }
 ],
 "metadata": {
  "kernelspec": {
   "display_name": "layer0",
   "language": "python",
   "name": "python3"
  },
  "language_info": {
   "codemirror_mode": {
    "name": "ipython",
    "version": 3
   },
   "file_extension": ".py",
   "mimetype": "text/x-python",
   "name": "python",
   "nbconvert_exporter": "python",
   "pygments_lexer": "ipython3",
   "version": "3.10.9"
  },
  "orig_nbformat": 4
 },
 "nbformat": 4,
 "nbformat_minor": 2
}
